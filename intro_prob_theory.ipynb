{
 "cells": [
  {
   "cell_type": "markdown",
   "metadata": {},
   "source": [
    "# 測度論的確率論の初歩で使う内容をPythonで"
   ]
  },
  {
   "cell_type": "code",
   "execution_count": 1,
   "metadata": {},
   "outputs": [],
   "source": [
    "# べき集合を作る関数\n",
    "def powerset(iterable):\n",
    "    iterable = list(iterable)\n",
    "    L = []\n",
    "    n = len(iterable)\n",
    "    counter = 2**n\n",
    "    for i in range(counter):\n",
    "        element_i = []\n",
    "        bin_i = bin(i)[2:].zfill(n)\n",
    "        mapping_index = list(bin_i)\n",
    "        element_i = [iterable[j] for j in range(len(mapping_index)) if int(mapping_index[j]) == 1]\n",
    "        L.append(element_i)\n",
    "    temp = []\n",
    "    for l in L:\n",
    "        l = frozenset(l)\n",
    "        temp.append(l)\n",
    "    result = frozenset(temp)\n",
    "    return result\n"
   ]
  },
  {
   "cell_type": "code",
   "execution_count": 3,
   "metadata": {},
   "outputs": [
    {
     "data": {
      "text/plain": [
       "frozenset({frozenset(),\n",
       "           frozenset({'b', 'c', 'd'}),\n",
       "           frozenset({'a', 'b', 'd', 'e'}),\n",
       "           frozenset({'b', 'c', 'e'}),\n",
       "           frozenset({'b', 'd', 'e'}),\n",
       "           frozenset({'a'}),\n",
       "           frozenset({'a', 'b'}),\n",
       "           frozenset({'a', 'b', 'd'}),\n",
       "           frozenset({'c'}),\n",
       "           frozenset({'a', 'b', 'c'}),\n",
       "           frozenset({'a', 'b', 'c', 'e'}),\n",
       "           frozenset({'b', 'd'}),\n",
       "           frozenset({'a', 'b', 'e'}),\n",
       "           frozenset({'a', 'd'}),\n",
       "           frozenset({'e'}),\n",
       "           frozenset({'c', 'e'}),\n",
       "           frozenset({'d'}),\n",
       "           frozenset({'d', 'e'}),\n",
       "           frozenset({'a', 'c'}),\n",
       "           frozenset({'a', 'c', 'd'}),\n",
       "           frozenset({'a', 'd', 'e'}),\n",
       "           frozenset({'c', 'd'}),\n",
       "           frozenset({'a', 'e'}),\n",
       "           frozenset({'a', 'c', 'e'}),\n",
       "           frozenset({'a', 'c', 'd', 'e'}),\n",
       "           frozenset({'b'}),\n",
       "           frozenset({'c', 'd', 'e'}),\n",
       "           frozenset({'b', 'c'}),\n",
       "           frozenset({'b', 'e'}),\n",
       "           frozenset({'b', 'c', 'd', 'e'}),\n",
       "           frozenset({'a', 'b', 'c', 'd'}),\n",
       "           frozenset({'a', 'b', 'c', 'd', 'e'})})"
      ]
     },
     "execution_count": 3,
     "metadata": {},
     "output_type": "execute_result"
    }
   ],
   "source": [
    "# 適当な集合 Omega と、Omegaのべき集合を作成\n",
    "Omega = frozenset([\"a\",\"b\",\"c\",\"d\",\"e\"])\n",
    "F = powerset(Omega)\n",
    "F"
   ]
  },
  {
   "cell_type": "code",
   "execution_count": 7,
   "metadata": {},
   "outputs": [
    {
     "name": "stdout",
     "output_type": "stream",
     "text": [
      "1\n"
     ]
    }
   ],
   "source": []
  },
  {
   "cell_type": "code",
   "execution_count": null,
   "metadata": {},
   "outputs": [],
   "source": [
    "# シグマ加法性をチェックする関数\n",
    "def check_sigma_additivity(S, F):\n",
    "    \"Sは集合、FはSの部分集合族。Fがシグマ加法性を満たすかどうかをチェックする\"\n",
    "    if S not in F:\n",
    "        print(\"NG\")\n",
    "    elif frozenset() not in F:\n",
    "        print(\"NG\")\n",
    "    counter = 0\n",
    "    for f1 in F:\n",
    "        for f2 in F:\n",
    "            if f1.union(f2) not in F:\n",
    "                print(\"NG\")\n",
    "                break\n",
    "        else:\n",
    "            counter += 1\n",
    "            continue\n",
    "        break\n",
    "    if counter == 2**len(S):\n",
    "        print(\"OK\")"
   ]
  },
  {
   "cell_type": "code",
   "execution_count": null,
   "metadata": {},
   "outputs": [],
   "source": [
    "# べき集合はシグマ加法性を満たす\n",
    "check_sigma_additivity(Omega, powerset(Omega))"
   ]
  },
  {
   "cell_type": "code",
   "execution_count": null,
   "metadata": {},
   "outputs": [],
   "source": [
    "# Omega の部分集合A を含む最小のシグマ加法族を作る関数\n",
    "def mim_sigma(Omega,A):\n",
    "    if not A.issubset(Omega):\n",
    "        print(\"ERROR: {0} is not subset of {1}\".format(A, Omega))\n",
    "    else:\n",
    "        return frozenset([frozenset([]), Omega, A, Omega.difference(A)])"
   ]
  },
  {
   "cell_type": "code",
   "execution_count": null,
   "metadata": {},
   "outputs": [],
   "source": [
    "S = frozenset([\"a\", \"b\",\"c\", \"d\"])\n",
    "A = frozenset([\"a\", \"c\"])\n",
    "mim_sigma(S, A)\n",
    "B = frozenset([\"a\", \"g\"])\n",
    "mim_sigma(S, B)"
   ]
  },
  {
   "cell_type": "code",
   "execution_count": 40,
   "metadata": {},
   "outputs": [],
   "source": [
    "# F上の関数が可測空間(S, F)の確率測度になっているかチェックする関数\n",
    "def check_prob(S, F, P):\n",
    "    if P(S) != 1:\n",
    "        print(\"NG\")\n",
    "    if P(frozenset()) != 0:\n",
    "        print(\"NG\")\n",
    "    counter = 0\n",
    "    for f1 in F:\n",
    "        for f2 in F:\n",
    "            if f1.intersection(f2):\n",
    "                pass\n",
    "            else:\n",
    "                epsilon = 1e-10\n",
    "                if P(f1.union(f2)) - (P(f1) + P(f2)) <= epsilon:\n",
    "                    pass\n",
    "                else:\n",
    "                    print(\"NG\")\n",
    "                    break\n",
    "        else:\n",
    "            counter += 1\n",
    "            continue\n",
    "        break\n",
    "    if counter == 2**len(S):\n",
    "        print(\"OK\")\n"
   ]
  },
  {
   "cell_type": "code",
   "execution_count": 48,
   "metadata": {},
   "outputs": [
    {
     "data": {
      "text/plain": [
       "frozenset({frozenset(),\n",
       "           frozenset({'裏'}),\n",
       "           frozenset({'表'}),\n",
       "           frozenset({'表', '裏'})})"
      ]
     },
     "execution_count": 48,
     "metadata": {},
     "output_type": "execute_result"
    }
   ],
   "source": [
    "# これまでの内容でコイントスをモデリングする\n",
    "Omega_coin = frozenset([\"表\", \"裏\"])\n",
    "F_coin = powerset(Omega)\n",
    "F_coin"
   ]
  },
  {
   "cell_type": "code",
   "execution_count": 57,
   "metadata": {},
   "outputs": [],
   "source": [
    "# コイントスの確率を決める関数を作る\n",
    "def prob_of_coin_flip(f):\n",
    "    if f == frozenset():\n",
    "        return 0\n",
    "    elif f == Omega_coin:\n",
    "        return 1\n",
    "    elif f == frozenset([\"表\"]):\n",
    "        return 99/100\n",
    "    elif f == frozenset([\"裏\"]):\n",
    "        return 1/100"
   ]
  },
  {
   "cell_type": "code",
   "execution_count": 58,
   "metadata": {},
   "outputs": [
    {
     "name": "stdout",
     "output_type": "stream",
     "text": [
      "OK\n"
     ]
    }
   ],
   "source": [
    "check_prob(Omega_coin, F_coin, prob_of_coin_flip)"
   ]
  },
  {
   "cell_type": "code",
   "execution_count": 70,
   "metadata": {},
   "outputs": [],
   "source": [
    "# サイコロ投げの例\n",
    "Omega_dise = frozenset([\"①\", \"②\", \"③\", \"④\", \"⑤\", \"⑥\"])\n",
    "F_dise = powerset(Omega_dise)\n",
    "def prob_of_throwing_dise(f):\n",
    "    if f == frozenset():\n",
    "        return 0\n",
    "    elif f == Omega_dise:\n",
    "        return 1\n",
    "    elif f == frozenset([\"①\"]):\n",
    "        return 1/6\n",
    "    elif f == frozenset([\"②\"]):\n",
    "        return 1/6\n",
    "    elif f == frozenset([\"③\"]):\n",
    "        return 1/6\n",
    "    elif f == frozenset([\"④\"]):\n",
    "        return 1/6\n",
    "    elif f == frozenset([\"⑤\"]):\n",
    "        return 1/6\n",
    "    elif f == frozenset([\"⑥\"]):\n",
    "        return 1/6\n",
    "    result = 0\n",
    "    for i in f:\n",
    "        result += prob_of_throwing_dise(frozenset([i]))\n",
    "    return result\n"
   ]
  },
  {
   "cell_type": "code",
   "execution_count": 73,
   "metadata": {},
   "outputs": [
    {
     "data": {
      "text/plain": [
       "0.5"
      ]
     },
     "execution_count": 73,
     "metadata": {},
     "output_type": "execute_result"
    }
   ],
   "source": [
    "prob_of_throwing_dise(frozenset([\"①\", \"②\", \"⑤\"]))"
   ]
  },
  {
   "cell_type": "code",
   "execution_count": 71,
   "metadata": {},
   "outputs": [
    {
     "name": "stdout",
     "output_type": "stream",
     "text": [
      "OK\n"
     ]
    }
   ],
   "source": [
    "check_prob(Omega_dise, F_dise, prob_of_throwing_dise)"
   ]
  },
  {
   "cell_type": "markdown",
   "metadata": {},
   "source": [
    "数学でいう、\"確率\"とは、あくまで可測空間上で定められた(確率測度の条件を満たす)関数のことを言う。\n",
    "それ以上のことは数学では規定しない。\n",
    "つまり個々の確率の事象の値は数学の範囲外であるとする。\n",
    "上の例でいうと、\"コインを投げて表が出る確率\"というのは数学が決めることではなく、人間が決めることである。\n",
    "\"サイコロを投げて1の目が出る確率\"というは、人間が決めることである。\n",
    "\"ある日本人男性の身長が180cmを超える確率\"は、人間が決めることである。\n",
    "もう少しちゃんと言うと \"いま考えている確率変数が従う確率分布は何なのか？\"という問題は、数学によって決めることではなく、人間が過去の経験やデータから推測して決める。\n",
    "\n",
    "「いやそんなことはない、コイン投げで表が出る確率は1/2だと学校で習ったじゃないか！」という意見があるかもしれない。\n",
    "しかしあれは実は、「各事象の出方は一様分布に従う」という前提が勝手に設定された世界なのである。\n",
    "教科書のどこかに「ただし、各事象の出方は同様に確からしいとする」という文言があったことを覚えていないだろうか。\n",
    "もしこの前提条件を無くすと、コイン投げで表が出る確率については何も知らないことになる。\n",
    "\n"
   ]
  },
  {
   "cell_type": "code",
   "execution_count": null,
   "metadata": {},
   "outputs": [],
   "source": []
  },
  {
   "cell_type": "code",
   "execution_count": null,
   "metadata": {},
   "outputs": [],
   "source": []
  }
 ],
 "metadata": {
  "kernelspec": {
   "display_name": "Python 3",
   "language": "python",
   "name": "python3"
  },
  "language_info": {
   "codemirror_mode": {
    "name": "ipython",
    "version": 3
   },
   "file_extension": ".py",
   "mimetype": "text/x-python",
   "name": "python",
   "nbconvert_exporter": "python",
   "pygments_lexer": "ipython3",
   "version": "3.6.5"
  }
 },
 "nbformat": 4,
 "nbformat_minor": 2
}
