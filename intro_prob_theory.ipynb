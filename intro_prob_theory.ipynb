{
 "cells": [
  {
   "cell_type": "markdown",
   "metadata": {},
   "source": [
    "# 測度論的確率論の初歩で使う内容をPythonで"
   ]
  },
  {
   "cell_type": "code",
   "execution_count": 22,
   "metadata": {},
   "outputs": [],
   "source": [
    "# べき集合を作る関数\n",
    "def powerset(iterable):\n",
    "    iterable = list(iterable)\n",
    "    L = []\n",
    "    n = len(iterable)\n",
    "    counter = 2**n\n",
    "    for i in range(counter):\n",
    "        element_i = []\n",
    "        bin_i = bin(i)[2:].zfill(n)\n",
    "        mapping_index = list(bin_i)\n",
    "        element_i = [iterable[j] for j in range(len(mapping_index)) if int(mapping_index[j]) == 1]\n",
    "        L.append(element_i)\n",
    "    temp = []\n",
    "    for l in L:\n",
    "        l = frozenset(l)\n",
    "        temp.append(l)\n",
    "    result = frozenset(temp)\n",
    "    return result\n"
   ]
  },
  {
   "cell_type": "code",
   "execution_count": 23,
   "metadata": {},
   "outputs": [
    {
     "data": {
      "text/plain": [
       "frozenset({frozenset(),\n",
       "           frozenset({'b', 'e'}),\n",
       "           frozenset({'d'}),\n",
       "           frozenset({'a'}),\n",
       "           frozenset({'a', 'd', 'e'}),\n",
       "           frozenset({'c', 'd'}),\n",
       "           frozenset({'a', 'c'}),\n",
       "           frozenset({'a', 'c', 'd'}),\n",
       "           frozenset({'a', 'c', 'd', 'e'}),\n",
       "           frozenset({'b'}),\n",
       "           frozenset({'b', 'c', 'e'}),\n",
       "           frozenset({'a', 'b'}),\n",
       "           frozenset({'a', 'b', 'c'}),\n",
       "           frozenset({'b', 'd'}),\n",
       "           frozenset({'b', 'c'}),\n",
       "           frozenset({'b', 'c', 'd'}),\n",
       "           frozenset({'a', 'b', 'c', 'd'}),\n",
       "           frozenset({'e'}),\n",
       "           frozenset({'d', 'e'}),\n",
       "           frozenset({'a', 'b', 'd', 'e'}),\n",
       "           frozenset({'c'}),\n",
       "           frozenset({'a', 'e'}),\n",
       "           frozenset({'a', 'b', 'e'}),\n",
       "           frozenset({'c', 'e'}),\n",
       "           frozenset({'a', 'c', 'e'}),\n",
       "           frozenset({'a', 'b', 'c', 'e'}),\n",
       "           frozenset({'c', 'd', 'e'}),\n",
       "           frozenset({'b', 'd', 'e'}),\n",
       "           frozenset({'b', 'c', 'd', 'e'}),\n",
       "           frozenset({'a', 'd'}),\n",
       "           frozenset({'a', 'b', 'd'}),\n",
       "           frozenset({'a', 'b', 'c', 'd', 'e'})})"
      ]
     },
     "execution_count": 23,
     "metadata": {},
     "output_type": "execute_result"
    }
   ],
   "source": [
    "# 適当な集合 Omega と、Omegaのべき集合を作成\n",
    "Omega = frozenset([\"a\",\"b\",\"c\",\"d\",\"e\"])\n",
    "F = powerset(Omega)\n",
    "F"
   ]
  },
  {
   "cell_type": "code",
   "execution_count": null,
   "metadata": {},
   "outputs": [],
   "source": []
  },
  {
   "cell_type": "code",
   "execution_count": 24,
   "metadata": {},
   "outputs": [],
   "source": [
    "# シグマ加法性をチェックする関数\n",
    "def check_sigma_additivity(S, F):\n",
    "    \"Sは集合、FはSの部分集合族。Fがシグマ加法性を満たすかどうかをチェックする\"\n",
    "    if S not in F:\n",
    "        print(\"NG\")\n",
    "    elif frozenset() not in F:\n",
    "        print(\"NG\")\n",
    "    counter = 0\n",
    "    for f1 in F:\n",
    "        for f2 in F:\n",
    "            if f1.union(f2) not in F:\n",
    "                print(\"NG\")\n",
    "                break\n",
    "        else:\n",
    "            counter += 1\n",
    "            continue\n",
    "        break\n",
    "    if counter == 2**len(S):\n",
    "        print(\"OK\")"
   ]
  },
  {
   "cell_type": "code",
   "execution_count": 25,
   "metadata": {},
   "outputs": [
    {
     "name": "stdout",
     "output_type": "stream",
     "text": [
      "OK\n"
     ]
    }
   ],
   "source": [
    "# べき集合はシグマ加法性を満たす\n",
    "check_sigma_additivity(Omega, powerset(Omega))"
   ]
  },
  {
   "cell_type": "code",
   "execution_count": 26,
   "metadata": {},
   "outputs": [],
   "source": [
    "# Omega の部分集合A を含む最小のシグマ加法族を作る関数\n",
    "def mim_sigma(Omega,A):\n",
    "    if not A.issubset(Omega):\n",
    "        print(\"ERROR: {0} is not subset of {1}\".format(A, Omega))\n",
    "    else:\n",
    "        return frozenset([frozenset([]), Omega, A, Omega.difference(A)])"
   ]
  },
  {
   "cell_type": "code",
   "execution_count": 27,
   "metadata": {},
   "outputs": [
    {
     "data": {
      "text/plain": [
       "frozenset({frozenset(),\n",
       "           frozenset({'b', 'd'}),\n",
       "           frozenset({'a', 'c'}),\n",
       "           frozenset({'a', 'b', 'c', 'd'})})"
      ]
     },
     "execution_count": 27,
     "metadata": {},
     "output_type": "execute_result"
    }
   ],
   "source": [
    "S = frozenset([\"a\", \"b\",\"c\", \"d\"])\n",
    "A = frozenset([\"a\", \"c\"])\n",
    "mim_sigma(S, A)\n"
   ]
  },
  {
   "cell_type": "code",
   "execution_count": 28,
   "metadata": {},
   "outputs": [],
   "source": [
    "# F上の関数が可測空間(S, F)の確率測度になっているかチェックする関数\n",
    "def check_prob(S, F, P):\n",
    "    epsilon = 1e-10\n",
    "    if abs(P(S) - 1) >= epsilon:\n",
    "        return \"NG\"\n",
    "    if abs(P(frozenset())) >= epsilon:\n",
    "        return \"NG\"\n",
    "    counter = 0\n",
    "    for f1 in F:\n",
    "        for f2 in F:\n",
    "            if f1.intersection(f2):\n",
    "                pass\n",
    "            else:\n",
    "                if P(f1.union(f2)) - (P(f1) + P(f2)) <= epsilon:\n",
    "                    pass\n",
    "                else:\n",
    "                    return \"NG\"\n",
    "                    break\n",
    "        else:\n",
    "            counter += 1\n",
    "            continue\n",
    "        break\n",
    "    if counter == 2**len(S):\n",
    "        return \"OK\"\n"
   ]
  },
  {
   "cell_type": "code",
   "execution_count": 29,
   "metadata": {},
   "outputs": [
    {
     "data": {
      "text/plain": [
       "frozenset({frozenset(),\n",
       "           frozenset({'表'}),\n",
       "           frozenset({'裏'}),\n",
       "           frozenset({'表', '裏'})})"
      ]
     },
     "execution_count": 29,
     "metadata": {},
     "output_type": "execute_result"
    }
   ],
   "source": [
    "# これまでの内容でコイントスをモデリングする\n",
    "Omega_coin = frozenset([\"表\", \"裏\"])\n",
    "F_coin = powerset(Omega_coin)\n",
    "F_coin"
   ]
  },
  {
   "cell_type": "code",
   "execution_count": 30,
   "metadata": {},
   "outputs": [],
   "source": [
    "# コイントスの確率を決める関数を作る\n",
    "def prob_of_coin_flip(f):\n",
    "    if f == frozenset([\"表\"]):\n",
    "        return 99/100\n",
    "    elif f == frozenset([\"裏\"]):\n",
    "        return 1/100\n",
    "    result = 0\n",
    "    for i in f:\n",
    "        result += prob_of_coin_flip(frozenset([i]))\n",
    "    return result"
   ]
  },
  {
   "cell_type": "code",
   "execution_count": 31,
   "metadata": {},
   "outputs": [
    {
     "data": {
      "text/plain": [
       "'OK'"
      ]
     },
     "execution_count": 31,
     "metadata": {},
     "output_type": "execute_result"
    }
   ],
   "source": [
    "check_prob(Omega_coin, F_coin, prob_of_coin_flip)"
   ]
  },
  {
   "cell_type": "code",
   "execution_count": 32,
   "metadata": {},
   "outputs": [],
   "source": [
    "# サイコロ投げの例\n",
    "Omega_dise = frozenset([\"①\", \"②\", \"③\", \"④\", \"⑤\", \"⑥\"])\n",
    "F_dise = powerset(Omega_dise)\n",
    "def prob_of_throwing_dise(f):\n",
    "    if f == frozenset([\"①\"]):\n",
    "        return 1/6\n",
    "    elif f == frozenset([\"②\"]):\n",
    "        return 1/6\n",
    "    elif f== frozenset([\"③\"]):\n",
    "        return 1/6\n",
    "    elif f == frozenset([\"④\"]):\n",
    "        return 1/6\n",
    "    elif f == frozenset([\"⑤\"]):\n",
    "        return 2/9\n",
    "    elif f == frozenset([\"⑥\"]):\n",
    "        return 1/9\n",
    "    result = 0\n",
    "    for i in f:\n",
    "        result += prob_of_throwing_dise(frozenset([i]))\n",
    "    return result\n"
   ]
  },
  {
   "cell_type": "code",
   "execution_count": 33,
   "metadata": {
    "scrolled": true
   },
   "outputs": [
    {
     "data": {
      "text/plain": [
       "0"
      ]
     },
     "execution_count": 33,
     "metadata": {},
     "output_type": "execute_result"
    }
   ],
   "source": [
    "prob_of_throwing_dise(frozenset())"
   ]
  },
  {
   "cell_type": "code",
   "execution_count": 34,
   "metadata": {},
   "outputs": [
    {
     "data": {
      "text/plain": [
       "2"
      ]
     },
     "execution_count": 34,
     "metadata": {},
     "output_type": "execute_result"
    }
   ],
   "source": [
    "# 確率変数\n",
    "Omega_dise = frozenset([\"①\", \"②\", \"③\", \"④\", \"⑤\", \"⑥\"])\n",
    "def X_dise(w):\n",
    "    if w == \"①\":\n",
    "        return 1 \n",
    "    if w == \"②\":\n",
    "        return 2 \n",
    "    if w == \"③\":\n",
    "        return 3 \n",
    "    if w == \"④\":\n",
    "        return 4 \n",
    "    if w == \"⑤\":\n",
    "        return 5 \n",
    "    if w == \"⑥\":\n",
    "        return 6 \n",
    "X_dise(\"②\")"
   ]
  },
  {
   "cell_type": "code",
   "execution_count": 35,
   "metadata": {},
   "outputs": [
    {
     "ename": "SyntaxError",
     "evalue": "unexpected EOF while parsing (<ipython-input-35-418f3ab47750>, line 6)",
     "output_type": "error",
     "traceback": [
      "\u001b[0;36m  File \u001b[0;32m\"<ipython-input-35-418f3ab47750>\"\u001b[0;36m, line \u001b[0;32m6\u001b[0m\n\u001b[0;31m    \u001b[0m\n\u001b[0m    ^\u001b[0m\n\u001b[0;31mSyntaxError\u001b[0m\u001b[0;31m:\u001b[0m unexpected EOF while parsing\n"
     ]
    }
   ],
   "source": [
    "# 確率変数Xに誘導される確率分布\n",
    "def prob_x(B):\n",
    "    result = 0\n",
    "    for i in B:\n",
    "        \n",
    "            "
   ]
  },
  {
   "cell_type": "markdown",
   "metadata": {},
   "source": [
    "確率分布の正体は、可測空間(R, B(R))上の確率測度です。  \n",
    "元の可測空間(S, F)上の確立Pを、確率変数Xを用いて（R, B(R))に\"橋渡しした\"というイメージで捉えることができると思います。  \n",
    "確率変数を用いることで、元の確率空間(S, F, P)がどのような(扱いにくい)空間だったとしても、扱いやすい確率変数(例えば(R, B(R))値確率変数)を用いることで、性質がよく調べられた扱いやすい確率空間に引きずり出して議論することができます。   \n",
    "とくに、ボレロ集合族B(R^d)は様々な性質が既に調べれていて扱いやすいので、実用上は(R^d, B(R^d)))値確率変数がよく利用されます。  \n",
    "  \n",
    "よく確率分布は、事象が取り得る確率の値の一覧であるというように書かれていることがあります。  \n",
    "これが全くの間違いというわけではないと思うので、これでスッキリ腹落ちするという場合は問題ないと思います。  \n",
    "しかし私の場合は、漠然と言いたいことはわかるけどずっとモヤモヤしてました。  \n",
    "B(R)上の確率測度なので、転じて一覧"
   ]
  },
  {
   "cell_type": "code",
   "execution_count": null,
   "metadata": {},
   "outputs": [],
   "source": []
  },
  {
   "cell_type": "code",
   "execution_count": null,
   "metadata": {},
   "outputs": [],
   "source": []
  },
  {
   "cell_type": "code",
   "execution_count": null,
   "metadata": {},
   "outputs": [],
   "source": []
  },
  {
   "cell_type": "code",
   "execution_count": null,
   "metadata": {
    "scrolled": true
   },
   "outputs": [],
   "source": [
    "check_prob(Omega_dise, F_dise, prob_of_throwing_dise)"
   ]
  },
  {
   "cell_type": "markdown",
   "metadata": {},
   "source": [
    "数学でいう\"確率\"という言葉は日常語におけるそれとは意味が異なるものと理解しています。  \n",
    "数学でいう、\"確率\"とは、あくまで可測空間上で定められた(確率測度の条件を満たす)関数のことであり、その関数に事象Aを入力したときの出力の値を「事象Aが起こる確率」と呼んでいるにすぎない。  \n",
    "個々の出力値が具体的にどうあるべきか、といったことは数学の世界の外の話になる。  \n",
    "\"コインを投げて表が出る確率\"は具体的にどうあるべきか？という議論は、数学の枠内では扱わない(扱えない)。  \n",
    "  \n",
    "ではどうするかというと、それは人間が決めるのである。過去の経験や、取得したデータから類推して決めるのである。  \n",
    "は？という感じになる人もいるかもしれないが、そうなのである。  \n",
    "上の例でいうと、\"コインを投げて表が出る確率\"というのは数学が決めることではなく、人間が決めることである。  \n",
    "\"サイコロを投げて1の目が出る確率\"というは、人間が決めることである。  \n",
    "\"今日日本で生まれた赤ん坊の身長が、将来180cmを超える確率\"は、人間が決めることである。  \n",
    "もう少しちゃんと言うと \"いま考えている確率変数が従う確率分布は何なのか？\"という問題は、数学によって決めることではなく、過去の経験を参考にしたり、データを集めてその振舞いを調査したりした上で、適切と信じられるもの考えて、人間が決めるのである。  \n",
    "  \n",
    "「いやそんなことはない、コイン投げで表が出る確率は1/2だと学校で習ったじゃないか！」という意見があるかもしれない。  \n",
    "しかしあれは実は、「各事象の出方は一様分布に従う」という前提が勝手に設定された世界なのである。  \n",
    "教科書のどこかに「ただし、各事象の出方は同様に確からしいとする」という文言があったことを覚えていないだろうか。  \n",
    "あれは、裏表が出る確率はそれぞれ等しく1/2ということにしますよ！ということを宣言しているのである。なぜそうするか？とか、その妥当性については何も言っていない。  \n",
    "\n",
    "しかし、ひとたびそれを前提として決めてしまえば、そこから先は数学の確率論の枠組みを利用して様々なことを知ることができる。  \n",
    "例えば、\"サイコロの各出目の確率\"を決めれば、\"偶数の目が出る確率\"や\"4以上の目が出る確率\"などは、経験や勘などではなく、数学の力で知ることができる。  \n",
    "\"コインの裏表の確率\"を決めれば、\"10回連続で表が出る確率\"を知ることができる。  \n",
    "\"日本の成人男性の身長は、平均170cm、分散33の正規分布に従う\"と決めれば、\"ある子供が将来180cm以上になる確率\"を知ることができる。  \n"
   ]
  },
  {
   "cell_type": "code",
   "execution_count": null,
   "metadata": {},
   "outputs": [],
   "source": []
  }
 ],
 "metadata": {
  "kernelspec": {
   "display_name": "Python 3",
   "language": "python",
   "name": "python3"
  },
  "language_info": {
   "codemirror_mode": {
    "name": "ipython",
    "version": 3
   },
   "file_extension": ".py",
   "mimetype": "text/x-python",
   "name": "python",
   "nbconvert_exporter": "python",
   "pygments_lexer": "ipython3",
   "version": "3.6.5"
  }
 },
 "nbformat": 4,
 "nbformat_minor": 2
}
