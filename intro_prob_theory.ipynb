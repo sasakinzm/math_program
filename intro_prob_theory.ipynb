{
 "cells": [
  {
   "cell_type": "markdown",
   "metadata": {},
   "source": [
    "# 測度論的確率論の初歩で使う内容をPythonで"
   ]
  },
  {
   "cell_type": "code",
   "execution_count": 22,
   "metadata": {},
   "outputs": [],
   "source": [
    "# べき集合を作る関数\n",
    "def powerset(iterable):\n",
    "    iterable = list(iterable)\n",
    "    L = []\n",
    "    n = len(iterable)\n",
    "    counter = 2**n\n",
    "    for i in range(counter):\n",
    "        element_i = []\n",
    "        bin_i = bin(i)[2:].zfill(n)\n",
    "        mapping_index = list(bin_i)\n",
    "        element_i = [iterable[j] for j in range(len(mapping_index)) if int(mapping_index[j]) == 1]\n",
    "        L.append(element_i)\n",
    "    temp = []\n",
    "    for l in L:\n",
    "        l = frozenset(l)\n",
    "        temp.append(l)\n",
    "    result = frozenset(temp)\n",
    "    return result\n"
   ]
  },
  {
   "cell_type": "code",
   "execution_count": 23,
   "metadata": {},
   "outputs": [
    {
     "data": {
      "text/plain": [
       "frozenset({frozenset(),\n",
       "           frozenset({'b', 'e'}),\n",
       "           frozenset({'d'}),\n",
       "           frozenset({'a'}),\n",
       "           frozenset({'a', 'd', 'e'}),\n",
       "           frozenset({'c', 'd'}),\n",
       "           frozenset({'a', 'c'}),\n",
       "           frozenset({'a', 'c', 'd'}),\n",
       "           frozenset({'a', 'c', 'd', 'e'}),\n",
       "           frozenset({'b'}),\n",
       "           frozenset({'b', 'c', 'e'}),\n",
       "           frozenset({'a', 'b'}),\n",
       "           frozenset({'a', 'b', 'c'}),\n",
       "           frozenset({'b', 'd'}),\n",
       "           frozenset({'b', 'c'}),\n",
       "           frozenset({'b', 'c', 'd'}),\n",
       "           frozenset({'a', 'b', 'c', 'd'}),\n",
       "           frozenset({'e'}),\n",
       "           frozenset({'d', 'e'}),\n",
       "           frozenset({'a', 'b', 'd', 'e'}),\n",
       "           frozenset({'c'}),\n",
       "           frozenset({'a', 'e'}),\n",
       "           frozenset({'a', 'b', 'e'}),\n",
       "           frozenset({'c', 'e'}),\n",
       "           frozenset({'a', 'c', 'e'}),\n",
       "           frozenset({'a', 'b', 'c', 'e'}),\n",
       "           frozenset({'c', 'd', 'e'}),\n",
       "           frozenset({'b', 'd', 'e'}),\n",
       "           frozenset({'b', 'c', 'd', 'e'}),\n",
       "           frozenset({'a', 'd'}),\n",
       "           frozenset({'a', 'b', 'd'}),\n",
       "           frozenset({'a', 'b', 'c', 'd', 'e'})})"
      ]
     },
     "execution_count": 23,
     "metadata": {},
     "output_type": "execute_result"
    }
   ],
   "source": [
    "# 適当な集合 Omega と、Omegaのべき集合を作成\n",
    "Omega = frozenset([\"a\",\"b\",\"c\",\"d\",\"e\"])\n",
    "F = powerset(Omega)\n",
    "F"
   ]
  },
  {
   "cell_type": "code",
   "execution_count": null,
   "metadata": {},
   "outputs": [],
   "source": []
  },
  {
   "cell_type": "code",
   "execution_count": 24,
   "metadata": {},
   "outputs": [],
   "source": [
    "# シグマ加法性をチェックする関数\n",
    "def check_sigma_additivity(S, F):\n",
    "    \"Sは集合、FはSの部分集合族。Fがシグマ加法性を満たすかどうかをチェックする\"\n",
    "    if S not in F:\n",
    "        print(\"NG\")\n",
    "    elif frozenset() not in F:\n",
    "        print(\"NG\")\n",
    "    counter = 0\n",
    "    for f1 in F:\n",
    "        for f2 in F:\n",
    "            if f1.union(f2) not in F:\n",
    "                print(\"NG\")\n",
    "                break\n",
    "        else:\n",
    "            counter += 1\n",
    "            continue\n",
    "        break\n",
    "    if counter == 2**len(S):\n",
    "        print(\"OK\")"
   ]
  },
  {
   "cell_type": "code",
   "execution_count": 25,
   "metadata": {},
   "outputs": [
    {
     "name": "stdout",
     "output_type": "stream",
     "text": [
      "OK\n"
     ]
    }
   ],
   "source": [
    "# べき集合はシグマ加法性を満たす\n",
    "check_sigma_additivity(Omega, powerset(Omega))"
   ]
  },
  {
   "cell_type": "code",
   "execution_count": 26,
   "metadata": {},
   "outputs": [],
   "source": [
    "# Omega の部分集合A を含む最小のシグマ加法族を作る関数\n",
    "def mim_sigma(Omega,A):\n",
    "    if not A.issubset(Omega):\n",
    "        print(\"ERROR: {0} is not subset of {1}\".format(A, Omega))\n",
    "    else:\n",
    "        return frozenset([frozenset([]), Omega, A, Omega.difference(A)])"
   ]
  },
  {
   "cell_type": "code",
   "execution_count": 27,
   "metadata": {},
   "outputs": [
    {
     "data": {
      "text/plain": [
       "frozenset({frozenset(),\n",
       "           frozenset({'b', 'd'}),\n",
       "           frozenset({'a', 'c'}),\n",
       "           frozenset({'a', 'b', 'c', 'd'})})"
      ]
     },
     "execution_count": 27,
     "metadata": {},
     "output_type": "execute_result"
    }
   ],
   "source": [
    "S = frozenset([\"a\", \"b\",\"c\", \"d\"])\n",
    "A = frozenset([\"a\", \"c\"])\n",
    "mim_sigma(S, A)\n"
   ]
  },
  {
   "cell_type": "code",
   "execution_count": 28,
   "metadata": {},
   "outputs": [],
   "source": [
    "# F上の関数が可測空間(S, F)の確率測度になっているかチェックする関数\n",
    "def check_prob(S, F, P):\n",
    "    epsilon = 1e-10\n",
    "    if abs(P(S) - 1) >= epsilon:\n",
    "        return \"NG\"\n",
    "    if abs(P(frozenset())) >= epsilon:\n",
    "        return \"NG\"\n",
    "    counter = 0\n",
    "    for f1 in F:\n",
    "        for f2 in F:\n",
    "            if f1.intersection(f2):\n",
    "                pass\n",
    "            else:\n",
    "                if P(f1.union(f2)) - (P(f1) + P(f2)) <= epsilon:\n",
    "                    pass\n",
    "                else:\n",
    "                    return \"NG\"\n",
    "                    break\n",
    "        else:\n",
    "            counter += 1\n",
    "            continue\n",
    "        break\n",
    "    if counter == 2**len(S):\n",
    "        return \"OK\"\n"
   ]
  },
  {
   "cell_type": "code",
   "execution_count": 29,
   "metadata": {},
   "outputs": [
    {
     "data": {
      "text/plain": [
       "frozenset({frozenset(),\n",
       "           frozenset({'表'}),\n",
       "           frozenset({'裏'}),\n",
       "           frozenset({'表', '裏'})})"
      ]
     },
     "execution_count": 29,
     "metadata": {},
     "output_type": "execute_result"
    }
   ],
   "source": [
    "# これまでの内容でコイントスをモデリングする\n",
    "Omega_coin = frozenset([\"表\", \"裏\"])\n",
    "F_coin = powerset(Omega_coin)\n",
    "F_coin"
   ]
  },
  {
   "cell_type": "code",
   "execution_count": 30,
   "metadata": {},
   "outputs": [],
   "source": [
    "# コイントスの確率を決める関数を作る\n",
    "def prob_of_coin_flip(f):\n",
    "    if f == frozenset([\"表\"]):\n",
    "        return 99/100\n",
    "    elif f == frozenset([\"裏\"]):\n",
    "        return 1/100\n",
    "    result = 0\n",
    "    for i in f:\n",
    "        result += prob_of_coin_flip(frozenset([i]))\n",
    "    return result"
   ]
  },
  {
   "cell_type": "code",
   "execution_count": 31,
   "metadata": {},
   "outputs": [
    {
     "data": {
      "text/plain": [
       "'OK'"
      ]
     },
     "execution_count": 31,
     "metadata": {},
     "output_type": "execute_result"
    }
   ],
   "source": [
    "check_prob(Omega_coin, F_coin, prob_of_coin_flip)"
   ]
  },
  {
   "cell_type": "code",
   "execution_count": 32,
   "metadata": {},
   "outputs": [],
   "source": [
    "# サイコロ投げの例\n",
    "Omega_dise = frozenset([\"①\", \"②\", \"③\", \"④\", \"⑤\", \"⑥\"])\n",
    "F_dise = powerset(Omega_dise)\n",
    "def prob_of_throwing_dise(f):\n",
    "    if f == frozenset([\"①\"]):\n",
    "        return 1/6\n",
    "    elif f == frozenset([\"②\"]):\n",
    "        return 1/6\n",
    "    elif f== frozenset([\"③\"]):\n",
    "        return 1/6\n",
    "    elif f == frozenset([\"④\"]):\n",
    "        return 1/6\n",
    "    elif f == frozenset([\"⑤\"]):\n",
    "        return 2/9\n",
    "    elif f == frozenset([\"⑥\"]):\n",
    "        return 1/9\n",
    "    result = 0\n",
    "    for i in f:\n",
    "        result += prob_of_throwing_dise(frozenset([i]))\n",
    "    return result\n"
   ]
  },
  {
   "cell_type": "code",
   "execution_count": 33,
   "metadata": {
    "scrolled": true
   },
   "outputs": [
    {
     "data": {
      "text/plain": [
       "0"
      ]
     },
     "execution_count": 33,
     "metadata": {},
     "output_type": "execute_result"
    }
   ],
   "source": [
    "prob_of_throwing_dise(frozenset())"
   ]
  },
  {
   "cell_type": "code",
   "execution_count": 34,
   "metadata": {},
   "outputs": [
    {
     "data": {
      "text/plain": [
       "2"
      ]
     },
     "execution_count": 34,
     "metadata": {},
     "output_type": "execute_result"
    }
   ],
   "source": [
    "# 確率変数\n",
    "Omega_dise = frozenset([\"①\", \"②\", \"③\", \"④\", \"⑤\", \"⑥\"])\n",
    "def X_dise(w):\n",
    "    if w == \"①\":\n",
    "        return 1 \n",
    "    if w == \"②\":\n",
    "        return 2 \n",
    "    if w == \"③\":\n",
    "        return 3 \n",
    "    if w == \"④\":\n",
    "        return 4 \n",
    "    if w == \"⑤\":\n",
    "        return 5 \n",
    "    if w == \"⑥\":\n",
    "        return 6 \n",
    "X_dise(\"②\")"
   ]
  },
  {
   "cell_type": "code",
   "execution_count": 35,
   "metadata": {},
   "outputs": [
    {
     "ename": "SyntaxError",
     "evalue": "unexpected EOF while parsing (<ipython-input-35-418f3ab47750>, line 6)",
     "output_type": "error",
     "traceback": [
      "\u001b[0;36m  File \u001b[0;32m\"<ipython-input-35-418f3ab47750>\"\u001b[0;36m, line \u001b[0;32m6\u001b[0m\n\u001b[0;31m    \u001b[0m\n\u001b[0m    ^\u001b[0m\n\u001b[0;31mSyntaxError\u001b[0m\u001b[0;31m:\u001b[0m unexpected EOF while parsing\n"
     ]
    }
   ],
   "source": [
    "# 確率変数Xに誘導される確率分布\n",
    "def prob_x(B):\n",
    "    result = 0\n",
    "    for i in B:\n",
    "        \n",
    "            "
   ]
  },
  {
   "cell_type": "code",
   "execution_count": null,
   "metadata": {},
   "outputs": [],
   "source": []
  },
  {
   "cell_type": "markdown",
   "metadata": {},
   "source": [
    "はじめに  \n",
    "動機  \n",
    "技術的な書籍を読むにあたって、\"確率\" という概念を自分の中できちんと整理したい思うようになったこと、そしてそれをアウトプットしたいということが動機です。\n",
    "確率という概念は、昨今流行のデータ分析や機械学習といった分野や、情報科学の基礎知識として多数用いられています。\n",
    "私の本職はネットワークエンジニアなのですが、流行りものが好きで、よくこの手の入門書に手を出します。  \n",
    "しかしその中でどうしても気になることが1つあります。\n",
    "それは、多くの書籍で \"確率\" という概念が非常に曖昧に用いられていることです。特に、\"確率変数\"、\"確率分布\" という言葉の定義がかなり曖昧に済まされている場合が多いと感じています。  \n",
    "数式を用いた論理展開を主軸にしたような書籍でも、根っ子にあたるはずの確率変数と確率分布という言葉は、かなりモヤっとした感じで定義しているものが多い印象です。  \n",
    "そして、そういった曖昧な言葉を土台にしてそれ以降の内容が積み上げられているので、いつまでたってもモヤモヤした気持ちを抱えたまま文章を読んでいました。  \n",
    "この状態を払拭すべく、いつか腰を据えて確率論の基礎を整理する必要があると感じてはいたのですが、これが結構難しく、中々手が進みませんでした。  \n",
    "最近になって、ようやく基本的なことが頭の中で整理されてきて、自分の言葉で根本からまとめられるようになってきた気がするため、その内容を形に残そうと思うに至りました。  \n",
    "\n",
    "構成  \n",
    "この文章は次のような構成で記述するように努めます。  \n",
    "・必要な概念の定義  \n",
    "　ここは形式的な言葉で、出来るだけきちんと厳密に書くつもりです。  \n",
    "・概念が意図する気持ち  \n",
    "　ここは自分の言葉で、かなりラフに書くつもりです。  \n",
    "・概念を実装するPythonコード(一部のみ)  \n",
    "　書けそうな部分はPythonコードで書くことに挑戦します。数式よりもコードを見た方が理解しやすいという人もいるかもしれないという意図です。  \n",
    "　\n",
    "\n",
    "想定読者  \n",
    "・技術書などに出てくる確率という概念にモヤモヤを抱えていて、スッキリさせたい方。(※3)  \n",
    "・私の理解に間違いがないかを探してくれて、あれば優しく指摘してくれる奇特な優しい方。  \n",
    "  \n",
    "注意書き  \n",
    "・この文章は長いです。  \n",
    "・測度論、コーディングいずれも素人のため、拙い記述やコードがあると思います  \n",
    "　ツッコミ頂けると大変うれしいです。  "
   ]
  },
  {
   "cell_type": "markdown",
   "metadata": {},
   "source": [
    "※3：逆に、あまりモヤモヤを感じずに進めていける人は不要かもしれません(いたずらに混乱をきたす可能性があります)  "
   ]
  },
  {
   "cell_type": "markdown",
   "metadata": {},
   "source": [
    "確率とは何か？  \n",
    "確率とは何でしょうか？wikipedia で調べると次のようなことが書いてあります。  \n",
    "\"確率（かくりつ、英: probability）とは、偶然性を持つある現象について、その現象が起こることが期待される度合い、あるいは現れることが期待される割合のことをいう。\"  \n",
    "また、以下のようにも書いています。  \n",
    "\"日本工業規格では確率（かくりつ:probability）は、「ある試行を同じ条件の下で長く続けたとき，一定の結果が生起する相対頻度の極限値。より一般的にはランダムな事象に割り当てられている [0, 1] の範囲の実数値と定義される。一般に事象 A の確率を Pr (A)で表す。」参考として「ある事象が生じるという信念の度合いを表す主観確率という概念も存在する。」と定義している[4]。\"  \n",
    "要するに、中学校で習った場合の数の比(求める場合の数 ÷ 全ての場合の数)のことを言っているようです。どちらもランダム性に言及しているのがポイントです。  \n",
    "ランダム性を用いた定義は、日常語として利用するには十分ですが、数学的な議論をするには扱いが難しいです。  \n",
    "ランダムという概念は厳密に定義することが難しく、どうしてもモヤっとした定義にならざるを得ません。  \n",
    "日常語としての確率と、数学用語としての確率とは分けて考えた方が良さそうです。  \n",
    "数学用語としての確率とは何か？ということは、後程気持ちも交えて書こうと思います。  \n",
    "後で書きますが、うまくランダムという概念を切り離して定式化しています。\n",
    "\n",
    "そのための準備として、まず可測空間というものを定義します。"
   ]
  },
  {
   "cell_type": "markdown",
   "metadata": {},
   "source": [
    "定義①  \n",
    "$Ω$ を集合とする。$Ω$ の部分集合族 $\\mathscr{A}$ が次の性質を満たすとき、$\\mathscr{A}$ をシグマ加法族(※)と呼び、組 $(Ω, \\mathscr{A})$ を可測空間と呼ぶ  \n",
    "① $Φ ∈ \\mathscr{A}$  \n",
    "② $Ω ∈ \\mathscr{A}$  \n",
    "③ $\\mathscr{A}$ の加算個の要素 $A_{1}, A_{2}, A_{3}, … $ に対して、合併 $\\bigcup_{i=1}^{\\infty}A_{i}$ もまた $\\mathscr{A}$ の要素である。  \n",
    "\n",
    "気持ち(※)  \n",
    "いきなり \"$Ω$ を集合とする\" などと突き飛ばすような書き方ですが、難しく考える必要はなく、実用上は$Ω$は全ての事象のもとになる集合を表すと考えてください。  \n",
    "例えばコイン投げについて考えるときには、$Ω$ は {\"表が出る\", \"裏が出る\"}といった、各事象のもととなる要素を集めた集合です。  \n",
    "サイコロ投げだったら {\"1が出る\", \"2が出る\", ... ,\"6が出る\"} といった具合です。そして、事象そのものは $Ω$ の部分集合で表現します。  \n",
    "例えば、サイコロ投げで1の目がでるという事象は {\"1が出る\"} というシングルトン(※)を使って表し、偶数の目が出るという事象は {\"2の目が出る\", \"4の目が出る\", \"6の目が出る\"} という集合で表します。  \n",
    "これらの事象を集めた集合を $\\mathscr{A}$ と書くことにしています(※)。  \n",
    "後で確率について考えるときは、\"サイコロを投げて偶数の目が出る\" 確率というのは、\"$\\mathscr{A}$ の要素 {\"2の目が出る\", \"4の目が出る\", \"6の目が出る\"} の確率\" について考えること、と思えばよいのです。  \n",
    "性質①～③は、$\\mathscr{A}$を事象の集合として考えるにあたって満たすべき最低限のルールを表しています。  \n",
    "シグマ加法族は①～③を満たせばどのような集合族でも良いのですが、実際には暗黙のうちに$Ω$の冪集合を使っていると思われる場合が多いと思います。"
   ]
  },
  {
   "cell_type": "markdown",
   "metadata": {},
   "source": [
    "※：この段階ではまだ確率測度が出てきていないのですが、ここでは確率論をベースとして気持ちを書きます  \n",
    "※：$\\mathscr{A}$の呼び方は書籍によって様々で、他にも完全加法族やシグマ代数などという表記も見かけます  \n",
    "※：要素が1つだけの集合をシングルトンと呼びます  \n",
    "※：記号は別に何でも良く、書籍によっては$Ω$の代わりに$S$、シグマ加法族に$\\mathscr{F}$を使う例もよく見られます"
   ]
  },
  {
   "cell_type": "markdown",
   "metadata": {},
   "source": [
    "定義②  \n",
    "$(Ω, \\mathscr{A})$ を可測空間とする。$\\mathscr{A}$上の関数 $P:\\mathscr{A} \\to \\mathbb{R}$ が次の性質を満たすとき、$P$を確率測度と呼ぶ。  \n",
    "また、事象 $A∈\\mathscr{A}$ に対し、$P(A)$の値を、事象$A$が起こる確率と呼ぶ  \n",
    "① $P(Ω) = 1$  \n",
    "② $P(Φ) = 0$  \n",
    "③ どの2つも共通部分を持たないような $\\mathscr{A}$ の加算個の要素 $A_{1}, A_{2}, A_{3}, … $ に対して、$P( \\bigcup_{i=1}^{\\infty} A_{i}) = \\sum_{i=1}^{\\infty} P(A_{i})$  \n",
    "  \n",
    "気持ち  \n",
    "事象に対する確率のあたいを"
   ]
  },
  {
   "cell_type": "code",
   "execution_count": null,
   "metadata": {},
   "outputs": [],
   "source": []
  },
  {
   "cell_type": "markdown",
   "metadata": {},
   "source": [
    "確率分布の正体は、可測空間(R, B(R))上の確率測度です。  \n",
    "元の可測空間(S, F)上の確立Pを、確率変数Xを用いて（R, B(R))に\"橋渡しした\"というイメージで捉えることができると思います。  \n",
    "確率変数を用いることで、元の確率空間(S, F, P)がどのような(扱いにくい)空間だったとしても、扱いやすい確率変数(例えば(R, B(R))値確率変数)を用いることで、性質がよく調べられた扱いやすい確率空間に引きずり出して議論することができます。   \n",
    "とくに、ボレロ集合族B(R^d)は様々な性質が既に調べれていて扱いやすいので、実用上は(R^d, B(R^d)))値確率変数がよく利用されます。  \n",
    "  \n",
    "よく確率分布は、事象が取り得る確率の値の一覧であるというように書かれていることがあります。  \n",
    "これが全くの間違いというわけではないと思うので、これでスッキリ腹落ちするという場合は問題ないと思います。  \n",
    "しかし私の場合は、漠然と言いたいことはわかるけどずっとモヤモヤしてました。  \n",
    "B(R)上の確率測度なので、転じて一覧"
   ]
  },
  {
   "cell_type": "code",
   "execution_count": null,
   "metadata": {},
   "outputs": [],
   "source": []
  },
  {
   "cell_type": "code",
   "execution_count": null,
   "metadata": {},
   "outputs": [],
   "source": []
  },
  {
   "cell_type": "code",
   "execution_count": null,
   "metadata": {},
   "outputs": [],
   "source": []
  },
  {
   "cell_type": "code",
   "execution_count": null,
   "metadata": {
    "scrolled": true
   },
   "outputs": [],
   "source": [
    "check_prob(Omega_dise, F_dise, prob_of_throwing_dise)"
   ]
  },
  {
   "cell_type": "markdown",
   "metadata": {},
   "source": [
    "数学でいう\"確率\"という言葉は、日常語におけるそれとは意味が異なる場合が少なくないと思います。  \n",
    "数学でいう、\"確率\"とは、あくまで可測空間上で定められた(確率測度の条件を満たす)関数のことであり、その関数に事象Aを入力したときの出力の値を「事象Aが起こる確率」と呼んでいるにすぎません。  \n",
    "そして個々の出力値が具体的にどうあるべきか？といったことは数学の世界の外の話になります。  \n",
    "\"コインを投げて表が出る確率\"は具体的にどうあるべきか？という議論は、数学の枠内では扱いません(測度論の文脈では扱うことができない)(と思う)。  \n",
    "  \n",
    "ではどうするかというと、それは人間が決めるのです。過去の経験や、取得したデータから類推して決めるのです。  \n",
    "え？という思う人もいるかもしれませんが、そうなのです。  \n",
    "上の例でいうと、\"コインを投げて表が出る確率\"というのは数学が決めることではなく、人間が決めることなのです。  \n",
    "同様に、\"サイコロを投げて1の目が出る確率\"というは、人間が決めることなのです。  \n",
    "\"今日日本で生まれた赤ん坊の身長が、将来180cmを超える確率\"は、人間が決めるなのことです。  \n",
    "もう少しちゃんと言うと \"いま考えている確率変数が従う確率分布は何なのか？\"という問題は、数学によって決めることではなく、過去の経験を参考にしたり、データを集めてその振舞いを調査したりした上で、適切と信じられるもの考えて、人間が決めるのです。  \n",
    "  \n",
    "「いやそんなことはない、コイン投げで表が出る確率は1/2だと学校で習ったじゃないか！」という意見があるかもしれません。  \n",
    "しかしあれは実は、「各事象の出方は一様分布に従う」という前提が勝手に設定された世界なのです。  \n",
    "教科書のどこかに「ただし、各事象の出方は同様に確からしいとする…」という文言が書いてあったのを覚えていませんか？  \n",
    "あれは、とりあえず裏表が出る確率はそれぞれ等しく1/2ということにしますよ！ということを宣言していたのです。  \n",
    "  \n",
    "しかし、そういった前提をひとたび了解すれば、そこから先は数学を利用して様々な有用なことを知ることができるのです。  \n",
    "例えば、\"サイコロの各出目の確率は1/6だ\"と決めてしまえば、\"偶数の目が出る確率\"や\"4以上の目が出る確率\"などは、経験や勘などではなく、数学の力で知ることができます。  \n",
    "\"コインの裏表の確率\"を決めてしまえば、\"10回連続で表が出る確率\"なんかを知ることができます。  \n",
    "\"日本の成人男性の身長は、平均170cm、分散33の正規分布に従う\"と決めてしまえば、自分の子供が将来高身長になる確率を知ることができるでしょう。  \n",
    "同様に、市場や貨幣価値のトレンドがある特定の分布に従っているのだと決めてしまえば、数学の力でトレンドの波を完璧に予測でき、商品の売り上げアップや一攫千金を狙うことがきっとできるでしょう。最初に前提として決めたことが正しければ、ですが。"
   ]
  },
  {
   "cell_type": "code",
   "execution_count": null,
   "metadata": {},
   "outputs": [],
   "source": []
  },
  {
   "cell_type": "code",
   "execution_count": null,
   "metadata": {
    "collapsed": true
   },
   "outputs": [],
   "source": []
  },
  {
   "cell_type": "markdown",
   "metadata": {},
   "source": [
    "確率論においてボレル集合族が登場してくる気持ちとしては、実用上の理由が大きいのだと思います。  \n",
    "私の想像ですが、確率測度のインプットとして \"区間\"という取り扱いやすいものを使いたいということが主な動機かなと思いました。  \n",
    "多くの場合、集合 $Ω$ のシグマ加法族 $\\mathscr{A}$ はの要素は、関数のインプットとしては扱いにくいです。\n",
    "コイン投げなら $Ω$ の要素は\"表\"とか\"裏\"といったものだし、\"日本人全体の集合\"だったりします。これらをインプットとし、かつ系統的で扱いやすい関数を考えるのはなかなか難しい。  \n",
    "一方で、区間を入力とした場合は、確率測度の表現に積分を組み込むことで容易にそれが実現できます。  \n",
    "区間を要素とするような集合で、かつ確率論の文脈にあった都合の良い集合としてボレル集合族はうってつけなのだと思います。"
   ]
  },
  {
   "cell_type": "code",
   "execution_count": null,
   "metadata": {},
   "outputs": [],
   "source": []
  }
 ],
 "metadata": {
  "kernelspec": {
   "display_name": "Python 3",
   "language": "python",
   "name": "python3"
  },
  "language_info": {
   "codemirror_mode": {
    "name": "ipython",
    "version": 3
   },
   "file_extension": ".py",
   "mimetype": "text/x-python",
   "name": "python",
   "nbconvert_exporter": "python",
   "pygments_lexer": "ipython3",
   "version": "3.6.5"
  }
 },
 "nbformat": 4,
 "nbformat_minor": 2
}
