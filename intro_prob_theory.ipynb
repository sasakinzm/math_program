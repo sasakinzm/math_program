{
 "cells": [
  {
   "cell_type": "markdown",
   "metadata": {},
   "source": [
    "# 測度論的確率論の初歩で使う内容をPythonで"
   ]
  },
  {
   "cell_type": "code",
   "execution_count": null,
   "metadata": {},
   "outputs": [],
   "source": [
    "# べき集合を作る関数\n",
    "def powerset(iterable):\n",
    "    iterable = list(iterable)\n",
    "    L = []\n",
    "    n = len(iterable)\n",
    "    counter = 2**n\n",
    "    for i in range(counter):\n",
    "        element_i = []\n",
    "        bin_i = bin(i)[2:].zfill(n)\n",
    "        mapping_index = list(bin_i)\n",
    "        element_i = [iterable[j] for j in range(len(mapping_index)) if int(mapping_index[j]) == 1]\n",
    "        L.append(element_i)\n",
    "    temp = []\n",
    "    for l in L:\n",
    "        l = frozenset(l)\n",
    "        temp.append(l)\n",
    "    result = frozenset(temp)\n",
    "    return result\n"
   ]
  },
  {
   "cell_type": "code",
   "execution_count": null,
   "metadata": {},
   "outputs": [],
   "source": [
    "# 適当な集合 Omega と、Omegaのべき集合を作成\n",
    "Omega = frozenset([\"a\",\"b\",\"c\",\"d\",\"e\"])\n",
    "F = powerset(Omega)\n",
    "F"
   ]
  },
  {
   "cell_type": "code",
   "execution_count": null,
   "metadata": {},
   "outputs": [],
   "source": []
  },
  {
   "cell_type": "code",
   "execution_count": null,
   "metadata": {},
   "outputs": [],
   "source": [
    "# シグマ加法性をチェックする関数\n",
    "def check_sigma_additivity(S, F):\n",
    "    if S not in F:\n",
    "        print(\"NG\")\n",
    "    elif frozenset() not in F:\n",
    "        print(\"NG\")\n",
    "    counter = 0\n",
    "    for f1 in F:\n",
    "        for f2 in F:\n",
    "            if f1.union(f2) not in F:\n",
    "                print(\"NG\")\n",
    "                break\n",
    "        else:\n",
    "            counter += 1\n",
    "            continue\n",
    "        break\n",
    "    if counter == 2**len(S):\n",
    "        print(\"OK\")"
   ]
  },
  {
   "cell_type": "code",
   "execution_count": null,
   "metadata": {},
   "outputs": [],
   "source": [
    "# べき集合はシグマ加法性を満たす\n",
    "check_sigma_additivity(Omega, powerset(Omega))"
   ]
  },
  {
   "cell_type": "code",
   "execution_count": null,
   "metadata": {},
   "outputs": [],
   "source": [
    "# Omega の部分集合A を含む最小のシグマ加法族を作る関数\n",
    "def mim_sigma(Omega,A):\n",
    "    if not A.issubset(Omega):\n",
    "        print(\"ERROR: {0} is not subset of {1}\".format(A, Omega))\n",
    "    else:\n",
    "        return frozenset([frozenset([]), Omega, A, Omega.difference(A)])"
   ]
  },
  {
   "cell_type": "code",
   "execution_count": null,
   "metadata": {},
   "outputs": [],
   "source": [
    "S = frozenset([\"a\", \"b\",\"c\", \"d\"])\n",
    "A = frozenset([\"a\", \"c\"])\n",
    "mim_sigma(S, A)\n",
    "B = frozenset([\"a\", \"g\"])\n",
    "mim_sigma(S, B)"
   ]
  },
  {
   "cell_type": "code",
   "execution_count": null,
   "metadata": {},
   "outputs": [],
   "source": []
  }
 ],
 "metadata": {
  "kernelspec": {
   "display_name": "Python 3",
   "language": "python",
   "name": "python3"
  },
  "language_info": {
   "codemirror_mode": {
    "name": "ipython",
    "version": 3
   },
   "file_extension": ".py",
   "mimetype": "text/x-python",
   "name": "python",
   "nbconvert_exporter": "python",
   "pygments_lexer": "ipython3",
   "version": "3.6.5"
  }
 },
 "nbformat": 4,
 "nbformat_minor": 2
}
